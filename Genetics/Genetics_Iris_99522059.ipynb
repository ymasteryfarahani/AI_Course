{
  "nbformat": 4,
  "nbformat_minor": 0,
  "metadata": {
    "colab": {
      "provenance": []
    },
    "kernelspec": {
      "name": "python3",
      "display_name": "Python 3"
    },
    "language_info": {
      "name": "python"
    }
  },
  "cells": [
    {
      "cell_type": "code",
      "source": [
        "!pip3 install -U ucimlrepo"
      ],
      "metadata": {
        "colab": {
          "base_uri": "https://localhost:8080/"
        },
        "id": "l-OuM0ciV-ls",
        "outputId": "7c249dd2-b7a5-478f-e4cb-51e4c100ed24"
      },
      "execution_count": null,
      "outputs": [
        {
          "output_type": "stream",
          "name": "stdout",
          "text": [
            "Collecting ucimlrepo\n",
            "  Downloading ucimlrepo-0.0.7-py3-none-any.whl (8.0 kB)\n",
            "Requirement already satisfied: pandas>=1.0.0 in /usr/local/lib/python3.10/dist-packages (from ucimlrepo) (2.0.3)\n",
            "Requirement already satisfied: certifi>=2020.12.5 in /usr/local/lib/python3.10/dist-packages (from ucimlrepo) (2024.6.2)\n",
            "Requirement already satisfied: python-dateutil>=2.8.2 in /usr/local/lib/python3.10/dist-packages (from pandas>=1.0.0->ucimlrepo) (2.8.2)\n",
            "Requirement already satisfied: pytz>=2020.1 in /usr/local/lib/python3.10/dist-packages (from pandas>=1.0.0->ucimlrepo) (2023.4)\n",
            "Requirement already satisfied: tzdata>=2022.1 in /usr/local/lib/python3.10/dist-packages (from pandas>=1.0.0->ucimlrepo) (2024.1)\n",
            "Requirement already satisfied: numpy>=1.21.0 in /usr/local/lib/python3.10/dist-packages (from pandas>=1.0.0->ucimlrepo) (1.25.2)\n",
            "Requirement already satisfied: six>=1.5 in /usr/local/lib/python3.10/dist-packages (from python-dateutil>=2.8.2->pandas>=1.0.0->ucimlrepo) (1.16.0)\n",
            "Installing collected packages: ucimlrepo\n",
            "Successfully installed ucimlrepo-0.0.7\n"
          ]
        }
      ]
    },
    {
      "cell_type": "markdown",
      "source": [
        "## Import Libraries"
      ],
      "metadata": {
        "id": "Pad8kYx3_LAa"
      }
    },
    {
      "cell_type": "code",
      "source": [
        "import pandas as pd\n",
        "import numpy as np\n",
        "import math\n",
        "import matplotlib.pyplot as plt\n",
        "from random import random, randint, sample\n",
        "from sklearn.metrics import accuracy_score\n",
        "from sklearn.preprocessing import LabelEncoder\n",
        "from scipy.optimize import linear_sum_assignment"
      ],
      "metadata": {
        "id": "Iclu2gWfWODe"
      },
      "execution_count": null,
      "outputs": []
    },
    {
      "cell_type": "markdown",
      "source": [
        "## Load Dataset"
      ],
      "metadata": {
        "id": "9Cw1FDLt_TEs"
      }
    },
    {
      "cell_type": "code",
      "source": [
        "from ucimlrepo import fetch_ucirepo\n",
        "\n",
        "# fetch dataset\n",
        "iris = fetch_ucirepo(id=53)"
      ],
      "metadata": {
        "id": "jdmSB2TAWSwk"
      },
      "execution_count": null,
      "outputs": []
    },
    {
      "cell_type": "code",
      "source": [
        "# Load and prepare the train data\n",
        "df = iris.data.features\n",
        "df"
      ],
      "metadata": {
        "colab": {
          "base_uri": "https://localhost:8080/",
          "height": 423
        },
        "id": "P2QRc-8sWcJ-",
        "outputId": "109f231d-8ba6-49ed-882f-c9ad88beee0d"
      },
      "execution_count": null,
      "outputs": [
        {
          "output_type": "execute_result",
          "data": {
            "text/plain": [
              "     sepal length  sepal width  petal length  petal width\n",
              "0             5.1          3.5           1.4          0.2\n",
              "1             4.9          3.0           1.4          0.2\n",
              "2             4.7          3.2           1.3          0.2\n",
              "3             4.6          3.1           1.5          0.2\n",
              "4             5.0          3.6           1.4          0.2\n",
              "..            ...          ...           ...          ...\n",
              "145           6.7          3.0           5.2          2.3\n",
              "146           6.3          2.5           5.0          1.9\n",
              "147           6.5          3.0           5.2          2.0\n",
              "148           6.2          3.4           5.4          2.3\n",
              "149           5.9          3.0           5.1          1.8\n",
              "\n",
              "[150 rows x 4 columns]"
            ],
            "text/html": [
              "\n",
              "  <div id=\"df-9a4fdb06-9e97-49e2-84f3-cd8506f11b1d\" class=\"colab-df-container\">\n",
              "    <div>\n",
              "<style scoped>\n",
              "    .dataframe tbody tr th:only-of-type {\n",
              "        vertical-align: middle;\n",
              "    }\n",
              "\n",
              "    .dataframe tbody tr th {\n",
              "        vertical-align: top;\n",
              "    }\n",
              "\n",
              "    .dataframe thead th {\n",
              "        text-align: right;\n",
              "    }\n",
              "</style>\n",
              "<table border=\"1\" class=\"dataframe\">\n",
              "  <thead>\n",
              "    <tr style=\"text-align: right;\">\n",
              "      <th></th>\n",
              "      <th>sepal length</th>\n",
              "      <th>sepal width</th>\n",
              "      <th>petal length</th>\n",
              "      <th>petal width</th>\n",
              "    </tr>\n",
              "  </thead>\n",
              "  <tbody>\n",
              "    <tr>\n",
              "      <th>0</th>\n",
              "      <td>5.1</td>\n",
              "      <td>3.5</td>\n",
              "      <td>1.4</td>\n",
              "      <td>0.2</td>\n",
              "    </tr>\n",
              "    <tr>\n",
              "      <th>1</th>\n",
              "      <td>4.9</td>\n",
              "      <td>3.0</td>\n",
              "      <td>1.4</td>\n",
              "      <td>0.2</td>\n",
              "    </tr>\n",
              "    <tr>\n",
              "      <th>2</th>\n",
              "      <td>4.7</td>\n",
              "      <td>3.2</td>\n",
              "      <td>1.3</td>\n",
              "      <td>0.2</td>\n",
              "    </tr>\n",
              "    <tr>\n",
              "      <th>3</th>\n",
              "      <td>4.6</td>\n",
              "      <td>3.1</td>\n",
              "      <td>1.5</td>\n",
              "      <td>0.2</td>\n",
              "    </tr>\n",
              "    <tr>\n",
              "      <th>4</th>\n",
              "      <td>5.0</td>\n",
              "      <td>3.6</td>\n",
              "      <td>1.4</td>\n",
              "      <td>0.2</td>\n",
              "    </tr>\n",
              "    <tr>\n",
              "      <th>...</th>\n",
              "      <td>...</td>\n",
              "      <td>...</td>\n",
              "      <td>...</td>\n",
              "      <td>...</td>\n",
              "    </tr>\n",
              "    <tr>\n",
              "      <th>145</th>\n",
              "      <td>6.7</td>\n",
              "      <td>3.0</td>\n",
              "      <td>5.2</td>\n",
              "      <td>2.3</td>\n",
              "    </tr>\n",
              "    <tr>\n",
              "      <th>146</th>\n",
              "      <td>6.3</td>\n",
              "      <td>2.5</td>\n",
              "      <td>5.0</td>\n",
              "      <td>1.9</td>\n",
              "    </tr>\n",
              "    <tr>\n",
              "      <th>147</th>\n",
              "      <td>6.5</td>\n",
              "      <td>3.0</td>\n",
              "      <td>5.2</td>\n",
              "      <td>2.0</td>\n",
              "    </tr>\n",
              "    <tr>\n",
              "      <th>148</th>\n",
              "      <td>6.2</td>\n",
              "      <td>3.4</td>\n",
              "      <td>5.4</td>\n",
              "      <td>2.3</td>\n",
              "    </tr>\n",
              "    <tr>\n",
              "      <th>149</th>\n",
              "      <td>5.9</td>\n",
              "      <td>3.0</td>\n",
              "      <td>5.1</td>\n",
              "      <td>1.8</td>\n",
              "    </tr>\n",
              "  </tbody>\n",
              "</table>\n",
              "<p>150 rows × 4 columns</p>\n",
              "</div>\n",
              "    <div class=\"colab-df-buttons\">\n",
              "\n",
              "  <div class=\"colab-df-container\">\n",
              "    <button class=\"colab-df-convert\" onclick=\"convertToInteractive('df-9a4fdb06-9e97-49e2-84f3-cd8506f11b1d')\"\n",
              "            title=\"Convert this dataframe to an interactive table.\"\n",
              "            style=\"display:none;\">\n",
              "\n",
              "  <svg xmlns=\"http://www.w3.org/2000/svg\" height=\"24px\" viewBox=\"0 -960 960 960\">\n",
              "    <path d=\"M120-120v-720h720v720H120Zm60-500h600v-160H180v160Zm220 220h160v-160H400v160Zm0 220h160v-160H400v160ZM180-400h160v-160H180v160Zm440 0h160v-160H620v160ZM180-180h160v-160H180v160Zm440 0h160v-160H620v160Z\"/>\n",
              "  </svg>\n",
              "    </button>\n",
              "\n",
              "  <style>\n",
              "    .colab-df-container {\n",
              "      display:flex;\n",
              "      gap: 12px;\n",
              "    }\n",
              "\n",
              "    .colab-df-convert {\n",
              "      background-color: #E8F0FE;\n",
              "      border: none;\n",
              "      border-radius: 50%;\n",
              "      cursor: pointer;\n",
              "      display: none;\n",
              "      fill: #1967D2;\n",
              "      height: 32px;\n",
              "      padding: 0 0 0 0;\n",
              "      width: 32px;\n",
              "    }\n",
              "\n",
              "    .colab-df-convert:hover {\n",
              "      background-color: #E2EBFA;\n",
              "      box-shadow: 0px 1px 2px rgba(60, 64, 67, 0.3), 0px 1px 3px 1px rgba(60, 64, 67, 0.15);\n",
              "      fill: #174EA6;\n",
              "    }\n",
              "\n",
              "    .colab-df-buttons div {\n",
              "      margin-bottom: 4px;\n",
              "    }\n",
              "\n",
              "    [theme=dark] .colab-df-convert {\n",
              "      background-color: #3B4455;\n",
              "      fill: #D2E3FC;\n",
              "    }\n",
              "\n",
              "    [theme=dark] .colab-df-convert:hover {\n",
              "      background-color: #434B5C;\n",
              "      box-shadow: 0px 1px 3px 1px rgba(0, 0, 0, 0.15);\n",
              "      filter: drop-shadow(0px 1px 2px rgba(0, 0, 0, 0.3));\n",
              "      fill: #FFFFFF;\n",
              "    }\n",
              "  </style>\n",
              "\n",
              "    <script>\n",
              "      const buttonEl =\n",
              "        document.querySelector('#df-9a4fdb06-9e97-49e2-84f3-cd8506f11b1d button.colab-df-convert');\n",
              "      buttonEl.style.display =\n",
              "        google.colab.kernel.accessAllowed ? 'block' : 'none';\n",
              "\n",
              "      async function convertToInteractive(key) {\n",
              "        const element = document.querySelector('#df-9a4fdb06-9e97-49e2-84f3-cd8506f11b1d');\n",
              "        const dataTable =\n",
              "          await google.colab.kernel.invokeFunction('convertToInteractive',\n",
              "                                                    [key], {});\n",
              "        if (!dataTable) return;\n",
              "\n",
              "        const docLinkHtml = 'Like what you see? Visit the ' +\n",
              "          '<a target=\"_blank\" href=https://colab.research.google.com/notebooks/data_table.ipynb>data table notebook</a>'\n",
              "          + ' to learn more about interactive tables.';\n",
              "        element.innerHTML = '';\n",
              "        dataTable['output_type'] = 'display_data';\n",
              "        await google.colab.output.renderOutput(dataTable, element);\n",
              "        const docLink = document.createElement('div');\n",
              "        docLink.innerHTML = docLinkHtml;\n",
              "        element.appendChild(docLink);\n",
              "      }\n",
              "    </script>\n",
              "  </div>\n",
              "\n",
              "\n",
              "<div id=\"df-94706b2f-3544-42c0-b717-c5e027a2dee2\">\n",
              "  <button class=\"colab-df-quickchart\" onclick=\"quickchart('df-94706b2f-3544-42c0-b717-c5e027a2dee2')\"\n",
              "            title=\"Suggest charts\"\n",
              "            style=\"display:none;\">\n",
              "\n",
              "<svg xmlns=\"http://www.w3.org/2000/svg\" height=\"24px\"viewBox=\"0 0 24 24\"\n",
              "     width=\"24px\">\n",
              "    <g>\n",
              "        <path d=\"M19 3H5c-1.1 0-2 .9-2 2v14c0 1.1.9 2 2 2h14c1.1 0 2-.9 2-2V5c0-1.1-.9-2-2-2zM9 17H7v-7h2v7zm4 0h-2V7h2v10zm4 0h-2v-4h2v4z\"/>\n",
              "    </g>\n",
              "</svg>\n",
              "  </button>\n",
              "\n",
              "<style>\n",
              "  .colab-df-quickchart {\n",
              "      --bg-color: #E8F0FE;\n",
              "      --fill-color: #1967D2;\n",
              "      --hover-bg-color: #E2EBFA;\n",
              "      --hover-fill-color: #174EA6;\n",
              "      --disabled-fill-color: #AAA;\n",
              "      --disabled-bg-color: #DDD;\n",
              "  }\n",
              "\n",
              "  [theme=dark] .colab-df-quickchart {\n",
              "      --bg-color: #3B4455;\n",
              "      --fill-color: #D2E3FC;\n",
              "      --hover-bg-color: #434B5C;\n",
              "      --hover-fill-color: #FFFFFF;\n",
              "      --disabled-bg-color: #3B4455;\n",
              "      --disabled-fill-color: #666;\n",
              "  }\n",
              "\n",
              "  .colab-df-quickchart {\n",
              "    background-color: var(--bg-color);\n",
              "    border: none;\n",
              "    border-radius: 50%;\n",
              "    cursor: pointer;\n",
              "    display: none;\n",
              "    fill: var(--fill-color);\n",
              "    height: 32px;\n",
              "    padding: 0;\n",
              "    width: 32px;\n",
              "  }\n",
              "\n",
              "  .colab-df-quickchart:hover {\n",
              "    background-color: var(--hover-bg-color);\n",
              "    box-shadow: 0 1px 2px rgba(60, 64, 67, 0.3), 0 1px 3px 1px rgba(60, 64, 67, 0.15);\n",
              "    fill: var(--button-hover-fill-color);\n",
              "  }\n",
              "\n",
              "  .colab-df-quickchart-complete:disabled,\n",
              "  .colab-df-quickchart-complete:disabled:hover {\n",
              "    background-color: var(--disabled-bg-color);\n",
              "    fill: var(--disabled-fill-color);\n",
              "    box-shadow: none;\n",
              "  }\n",
              "\n",
              "  .colab-df-spinner {\n",
              "    border: 2px solid var(--fill-color);\n",
              "    border-color: transparent;\n",
              "    border-bottom-color: var(--fill-color);\n",
              "    animation:\n",
              "      spin 1s steps(1) infinite;\n",
              "  }\n",
              "\n",
              "  @keyframes spin {\n",
              "    0% {\n",
              "      border-color: transparent;\n",
              "      border-bottom-color: var(--fill-color);\n",
              "      border-left-color: var(--fill-color);\n",
              "    }\n",
              "    20% {\n",
              "      border-color: transparent;\n",
              "      border-left-color: var(--fill-color);\n",
              "      border-top-color: var(--fill-color);\n",
              "    }\n",
              "    30% {\n",
              "      border-color: transparent;\n",
              "      border-left-color: var(--fill-color);\n",
              "      border-top-color: var(--fill-color);\n",
              "      border-right-color: var(--fill-color);\n",
              "    }\n",
              "    40% {\n",
              "      border-color: transparent;\n",
              "      border-right-color: var(--fill-color);\n",
              "      border-top-color: var(--fill-color);\n",
              "    }\n",
              "    60% {\n",
              "      border-color: transparent;\n",
              "      border-right-color: var(--fill-color);\n",
              "    }\n",
              "    80% {\n",
              "      border-color: transparent;\n",
              "      border-right-color: var(--fill-color);\n",
              "      border-bottom-color: var(--fill-color);\n",
              "    }\n",
              "    90% {\n",
              "      border-color: transparent;\n",
              "      border-bottom-color: var(--fill-color);\n",
              "    }\n",
              "  }\n",
              "</style>\n",
              "\n",
              "  <script>\n",
              "    async function quickchart(key) {\n",
              "      const quickchartButtonEl =\n",
              "        document.querySelector('#' + key + ' button');\n",
              "      quickchartButtonEl.disabled = true;  // To prevent multiple clicks.\n",
              "      quickchartButtonEl.classList.add('colab-df-spinner');\n",
              "      try {\n",
              "        const charts = await google.colab.kernel.invokeFunction(\n",
              "            'suggestCharts', [key], {});\n",
              "      } catch (error) {\n",
              "        console.error('Error during call to suggestCharts:', error);\n",
              "      }\n",
              "      quickchartButtonEl.classList.remove('colab-df-spinner');\n",
              "      quickchartButtonEl.classList.add('colab-df-quickchart-complete');\n",
              "    }\n",
              "    (() => {\n",
              "      let quickchartButtonEl =\n",
              "        document.querySelector('#df-94706b2f-3544-42c0-b717-c5e027a2dee2 button');\n",
              "      quickchartButtonEl.style.display =\n",
              "        google.colab.kernel.accessAllowed ? 'block' : 'none';\n",
              "    })();\n",
              "  </script>\n",
              "</div>\n",
              "    </div>\n",
              "  </div>\n"
            ],
            "application/vnd.google.colaboratory.intrinsic+json": {
              "type": "dataframe",
              "variable_name": "df",
              "summary": "{\n  \"name\": \"df\",\n  \"rows\": 150,\n  \"fields\": [\n    {\n      \"column\": \"sepal length\",\n      \"properties\": {\n        \"dtype\": \"number\",\n        \"std\": 0.828066127977863,\n        \"min\": 4.3,\n        \"max\": 7.9,\n        \"num_unique_values\": 35,\n        \"samples\": [\n          6.2,\n          4.5,\n          5.6\n        ],\n        \"semantic_type\": \"\",\n        \"description\": \"\"\n      }\n    },\n    {\n      \"column\": \"sepal width\",\n      \"properties\": {\n        \"dtype\": \"number\",\n        \"std\": 0.4335943113621737,\n        \"min\": 2.0,\n        \"max\": 4.4,\n        \"num_unique_values\": 23,\n        \"samples\": [\n          2.3,\n          4.0,\n          3.5\n        ],\n        \"semantic_type\": \"\",\n        \"description\": \"\"\n      }\n    },\n    {\n      \"column\": \"petal length\",\n      \"properties\": {\n        \"dtype\": \"number\",\n        \"std\": 1.7644204199522626,\n        \"min\": 1.0,\n        \"max\": 6.9,\n        \"num_unique_values\": 43,\n        \"samples\": [\n          6.7,\n          3.8,\n          3.7\n        ],\n        \"semantic_type\": \"\",\n        \"description\": \"\"\n      }\n    },\n    {\n      \"column\": \"petal width\",\n      \"properties\": {\n        \"dtype\": \"number\",\n        \"std\": 0.7631607417008411,\n        \"min\": 0.1,\n        \"max\": 2.5,\n        \"num_unique_values\": 22,\n        \"samples\": [\n          0.2,\n          1.2,\n          1.3\n        ],\n        \"semantic_type\": \"\",\n        \"description\": \"\"\n      }\n    }\n  ]\n}"
            }
          },
          "metadata": {},
          "execution_count": 5
        }
      ]
    },
    {
      "cell_type": "code",
      "source": [
        "# Load and prepare the test data\n",
        "y = iris.data.targets\n",
        "y"
      ],
      "metadata": {
        "colab": {
          "base_uri": "https://localhost:8080/",
          "height": 423
        },
        "id": "1QJmEy5xWygd",
        "outputId": "e7cf885b-5391-41ac-d476-a3d22fe48c1d"
      },
      "execution_count": null,
      "outputs": [
        {
          "output_type": "execute_result",
          "data": {
            "text/plain": [
              "              class\n",
              "0       Iris-setosa\n",
              "1       Iris-setosa\n",
              "2       Iris-setosa\n",
              "3       Iris-setosa\n",
              "4       Iris-setosa\n",
              "..              ...\n",
              "145  Iris-virginica\n",
              "146  Iris-virginica\n",
              "147  Iris-virginica\n",
              "148  Iris-virginica\n",
              "149  Iris-virginica\n",
              "\n",
              "[150 rows x 1 columns]"
            ],
            "text/html": [
              "\n",
              "  <div id=\"df-aada4758-f17b-4720-8b6d-b89313de3381\" class=\"colab-df-container\">\n",
              "    <div>\n",
              "<style scoped>\n",
              "    .dataframe tbody tr th:only-of-type {\n",
              "        vertical-align: middle;\n",
              "    }\n",
              "\n",
              "    .dataframe tbody tr th {\n",
              "        vertical-align: top;\n",
              "    }\n",
              "\n",
              "    .dataframe thead th {\n",
              "        text-align: right;\n",
              "    }\n",
              "</style>\n",
              "<table border=\"1\" class=\"dataframe\">\n",
              "  <thead>\n",
              "    <tr style=\"text-align: right;\">\n",
              "      <th></th>\n",
              "      <th>class</th>\n",
              "    </tr>\n",
              "  </thead>\n",
              "  <tbody>\n",
              "    <tr>\n",
              "      <th>0</th>\n",
              "      <td>Iris-setosa</td>\n",
              "    </tr>\n",
              "    <tr>\n",
              "      <th>1</th>\n",
              "      <td>Iris-setosa</td>\n",
              "    </tr>\n",
              "    <tr>\n",
              "      <th>2</th>\n",
              "      <td>Iris-setosa</td>\n",
              "    </tr>\n",
              "    <tr>\n",
              "      <th>3</th>\n",
              "      <td>Iris-setosa</td>\n",
              "    </tr>\n",
              "    <tr>\n",
              "      <th>4</th>\n",
              "      <td>Iris-setosa</td>\n",
              "    </tr>\n",
              "    <tr>\n",
              "      <th>...</th>\n",
              "      <td>...</td>\n",
              "    </tr>\n",
              "    <tr>\n",
              "      <th>145</th>\n",
              "      <td>Iris-virginica</td>\n",
              "    </tr>\n",
              "    <tr>\n",
              "      <th>146</th>\n",
              "      <td>Iris-virginica</td>\n",
              "    </tr>\n",
              "    <tr>\n",
              "      <th>147</th>\n",
              "      <td>Iris-virginica</td>\n",
              "    </tr>\n",
              "    <tr>\n",
              "      <th>148</th>\n",
              "      <td>Iris-virginica</td>\n",
              "    </tr>\n",
              "    <tr>\n",
              "      <th>149</th>\n",
              "      <td>Iris-virginica</td>\n",
              "    </tr>\n",
              "  </tbody>\n",
              "</table>\n",
              "<p>150 rows × 1 columns</p>\n",
              "</div>\n",
              "    <div class=\"colab-df-buttons\">\n",
              "\n",
              "  <div class=\"colab-df-container\">\n",
              "    <button class=\"colab-df-convert\" onclick=\"convertToInteractive('df-aada4758-f17b-4720-8b6d-b89313de3381')\"\n",
              "            title=\"Convert this dataframe to an interactive table.\"\n",
              "            style=\"display:none;\">\n",
              "\n",
              "  <svg xmlns=\"http://www.w3.org/2000/svg\" height=\"24px\" viewBox=\"0 -960 960 960\">\n",
              "    <path d=\"M120-120v-720h720v720H120Zm60-500h600v-160H180v160Zm220 220h160v-160H400v160Zm0 220h160v-160H400v160ZM180-400h160v-160H180v160Zm440 0h160v-160H620v160ZM180-180h160v-160H180v160Zm440 0h160v-160H620v160Z\"/>\n",
              "  </svg>\n",
              "    </button>\n",
              "\n",
              "  <style>\n",
              "    .colab-df-container {\n",
              "      display:flex;\n",
              "      gap: 12px;\n",
              "    }\n",
              "\n",
              "    .colab-df-convert {\n",
              "      background-color: #E8F0FE;\n",
              "      border: none;\n",
              "      border-radius: 50%;\n",
              "      cursor: pointer;\n",
              "      display: none;\n",
              "      fill: #1967D2;\n",
              "      height: 32px;\n",
              "      padding: 0 0 0 0;\n",
              "      width: 32px;\n",
              "    }\n",
              "\n",
              "    .colab-df-convert:hover {\n",
              "      background-color: #E2EBFA;\n",
              "      box-shadow: 0px 1px 2px rgba(60, 64, 67, 0.3), 0px 1px 3px 1px rgba(60, 64, 67, 0.15);\n",
              "      fill: #174EA6;\n",
              "    }\n",
              "\n",
              "    .colab-df-buttons div {\n",
              "      margin-bottom: 4px;\n",
              "    }\n",
              "\n",
              "    [theme=dark] .colab-df-convert {\n",
              "      background-color: #3B4455;\n",
              "      fill: #D2E3FC;\n",
              "    }\n",
              "\n",
              "    [theme=dark] .colab-df-convert:hover {\n",
              "      background-color: #434B5C;\n",
              "      box-shadow: 0px 1px 3px 1px rgba(0, 0, 0, 0.15);\n",
              "      filter: drop-shadow(0px 1px 2px rgba(0, 0, 0, 0.3));\n",
              "      fill: #FFFFFF;\n",
              "    }\n",
              "  </style>\n",
              "\n",
              "    <script>\n",
              "      const buttonEl =\n",
              "        document.querySelector('#df-aada4758-f17b-4720-8b6d-b89313de3381 button.colab-df-convert');\n",
              "      buttonEl.style.display =\n",
              "        google.colab.kernel.accessAllowed ? 'block' : 'none';\n",
              "\n",
              "      async function convertToInteractive(key) {\n",
              "        const element = document.querySelector('#df-aada4758-f17b-4720-8b6d-b89313de3381');\n",
              "        const dataTable =\n",
              "          await google.colab.kernel.invokeFunction('convertToInteractive',\n",
              "                                                    [key], {});\n",
              "        if (!dataTable) return;\n",
              "\n",
              "        const docLinkHtml = 'Like what you see? Visit the ' +\n",
              "          '<a target=\"_blank\" href=https://colab.research.google.com/notebooks/data_table.ipynb>data table notebook</a>'\n",
              "          + ' to learn more about interactive tables.';\n",
              "        element.innerHTML = '';\n",
              "        dataTable['output_type'] = 'display_data';\n",
              "        await google.colab.output.renderOutput(dataTable, element);\n",
              "        const docLink = document.createElement('div');\n",
              "        docLink.innerHTML = docLinkHtml;\n",
              "        element.appendChild(docLink);\n",
              "      }\n",
              "    </script>\n",
              "  </div>\n",
              "\n",
              "\n",
              "<div id=\"df-15ced196-46b1-42b4-99cd-77970e94cd0e\">\n",
              "  <button class=\"colab-df-quickchart\" onclick=\"quickchart('df-15ced196-46b1-42b4-99cd-77970e94cd0e')\"\n",
              "            title=\"Suggest charts\"\n",
              "            style=\"display:none;\">\n",
              "\n",
              "<svg xmlns=\"http://www.w3.org/2000/svg\" height=\"24px\"viewBox=\"0 0 24 24\"\n",
              "     width=\"24px\">\n",
              "    <g>\n",
              "        <path d=\"M19 3H5c-1.1 0-2 .9-2 2v14c0 1.1.9 2 2 2h14c1.1 0 2-.9 2-2V5c0-1.1-.9-2-2-2zM9 17H7v-7h2v7zm4 0h-2V7h2v10zm4 0h-2v-4h2v4z\"/>\n",
              "    </g>\n",
              "</svg>\n",
              "  </button>\n",
              "\n",
              "<style>\n",
              "  .colab-df-quickchart {\n",
              "      --bg-color: #E8F0FE;\n",
              "      --fill-color: #1967D2;\n",
              "      --hover-bg-color: #E2EBFA;\n",
              "      --hover-fill-color: #174EA6;\n",
              "      --disabled-fill-color: #AAA;\n",
              "      --disabled-bg-color: #DDD;\n",
              "  }\n",
              "\n",
              "  [theme=dark] .colab-df-quickchart {\n",
              "      --bg-color: #3B4455;\n",
              "      --fill-color: #D2E3FC;\n",
              "      --hover-bg-color: #434B5C;\n",
              "      --hover-fill-color: #FFFFFF;\n",
              "      --disabled-bg-color: #3B4455;\n",
              "      --disabled-fill-color: #666;\n",
              "  }\n",
              "\n",
              "  .colab-df-quickchart {\n",
              "    background-color: var(--bg-color);\n",
              "    border: none;\n",
              "    border-radius: 50%;\n",
              "    cursor: pointer;\n",
              "    display: none;\n",
              "    fill: var(--fill-color);\n",
              "    height: 32px;\n",
              "    padding: 0;\n",
              "    width: 32px;\n",
              "  }\n",
              "\n",
              "  .colab-df-quickchart:hover {\n",
              "    background-color: var(--hover-bg-color);\n",
              "    box-shadow: 0 1px 2px rgba(60, 64, 67, 0.3), 0 1px 3px 1px rgba(60, 64, 67, 0.15);\n",
              "    fill: var(--button-hover-fill-color);\n",
              "  }\n",
              "\n",
              "  .colab-df-quickchart-complete:disabled,\n",
              "  .colab-df-quickchart-complete:disabled:hover {\n",
              "    background-color: var(--disabled-bg-color);\n",
              "    fill: var(--disabled-fill-color);\n",
              "    box-shadow: none;\n",
              "  }\n",
              "\n",
              "  .colab-df-spinner {\n",
              "    border: 2px solid var(--fill-color);\n",
              "    border-color: transparent;\n",
              "    border-bottom-color: var(--fill-color);\n",
              "    animation:\n",
              "      spin 1s steps(1) infinite;\n",
              "  }\n",
              "\n",
              "  @keyframes spin {\n",
              "    0% {\n",
              "      border-color: transparent;\n",
              "      border-bottom-color: var(--fill-color);\n",
              "      border-left-color: var(--fill-color);\n",
              "    }\n",
              "    20% {\n",
              "      border-color: transparent;\n",
              "      border-left-color: var(--fill-color);\n",
              "      border-top-color: var(--fill-color);\n",
              "    }\n",
              "    30% {\n",
              "      border-color: transparent;\n",
              "      border-left-color: var(--fill-color);\n",
              "      border-top-color: var(--fill-color);\n",
              "      border-right-color: var(--fill-color);\n",
              "    }\n",
              "    40% {\n",
              "      border-color: transparent;\n",
              "      border-right-color: var(--fill-color);\n",
              "      border-top-color: var(--fill-color);\n",
              "    }\n",
              "    60% {\n",
              "      border-color: transparent;\n",
              "      border-right-color: var(--fill-color);\n",
              "    }\n",
              "    80% {\n",
              "      border-color: transparent;\n",
              "      border-right-color: var(--fill-color);\n",
              "      border-bottom-color: var(--fill-color);\n",
              "    }\n",
              "    90% {\n",
              "      border-color: transparent;\n",
              "      border-bottom-color: var(--fill-color);\n",
              "    }\n",
              "  }\n",
              "</style>\n",
              "\n",
              "  <script>\n",
              "    async function quickchart(key) {\n",
              "      const quickchartButtonEl =\n",
              "        document.querySelector('#' + key + ' button');\n",
              "      quickchartButtonEl.disabled = true;  // To prevent multiple clicks.\n",
              "      quickchartButtonEl.classList.add('colab-df-spinner');\n",
              "      try {\n",
              "        const charts = await google.colab.kernel.invokeFunction(\n",
              "            'suggestCharts', [key], {});\n",
              "      } catch (error) {\n",
              "        console.error('Error during call to suggestCharts:', error);\n",
              "      }\n",
              "      quickchartButtonEl.classList.remove('colab-df-spinner');\n",
              "      quickchartButtonEl.classList.add('colab-df-quickchart-complete');\n",
              "    }\n",
              "    (() => {\n",
              "      let quickchartButtonEl =\n",
              "        document.querySelector('#df-15ced196-46b1-42b4-99cd-77970e94cd0e button');\n",
              "      quickchartButtonEl.style.display =\n",
              "        google.colab.kernel.accessAllowed ? 'block' : 'none';\n",
              "    })();\n",
              "  </script>\n",
              "</div>\n",
              "    </div>\n",
              "  </div>\n"
            ],
            "application/vnd.google.colaboratory.intrinsic+json": {
              "type": "dataframe",
              "variable_name": "y",
              "summary": "{\n  \"name\": \"y\",\n  \"rows\": 150,\n  \"fields\": [\n    {\n      \"column\": \"class\",\n      \"properties\": {\n        \"dtype\": \"category\",\n        \"num_unique_values\": 3,\n        \"samples\": [\n          \"Iris-setosa\",\n          \"Iris-versicolor\",\n          \"Iris-virginica\"\n        ],\n        \"semantic_type\": \"\",\n        \"description\": \"\"\n      }\n    }\n  ]\n}"
            }
          },
          "metadata": {},
          "execution_count": 6
        }
      ]
    },
    {
      "cell_type": "code",
      "source": [
        "true_labels = y.values.ravel()"
      ],
      "metadata": {
        "id": "KcfzBHAWXph8"
      },
      "execution_count": null,
      "outputs": []
    },
    {
      "cell_type": "markdown",
      "source": [
        "## variables Initialization"
      ],
      "metadata": {
        "id": "cSc_kPd0_bjQ"
      }
    },
    {
      "cell_type": "code",
      "source": [
        "# Parameters\n",
        "genome_size = len(df)\n",
        "num_clusters = 3\n",
        "population_size = 50\n",
        "max_generations = 100\n",
        "mutation_rate = 0.01\n",
        "tournament_size = 3"
      ],
      "metadata": {
        "id": "dQkJkIBP-ppW"
      },
      "execution_count": null,
      "outputs": []
    },
    {
      "cell_type": "markdown",
      "source": [
        "## Population"
      ],
      "metadata": {
        "id": "g2cjkv9g_nKS"
      }
    },
    {
      "cell_type": "code",
      "source": [
        "def initialize_population():\n",
        "    population = []\n",
        "    for _ in range(population_size):\n",
        "        individual = [randint(1, num_clusters) for _ in range(genome_size)]\n",
        "        population.append(individual)\n",
        "    return population"
      ],
      "metadata": {
        "id": "FF6S-M89-qzJ"
      },
      "execution_count": null,
      "outputs": []
    },
    {
      "cell_type": "markdown",
      "source": [
        "## Euclidean Distance"
      ],
      "metadata": {
        "id": "Mb9zjzhE_uIS"
      }
    },
    {
      "cell_type": "code",
      "source": [
        "def euclidean_distance(point1, point2):\n",
        "    return np.sqrt(np.sum((np.array(point1) - np.array(point2)) ** 2))"
      ],
      "metadata": {
        "id": "QG7g-JQC-sMr"
      },
      "execution_count": null,
      "outputs": []
    },
    {
      "cell_type": "markdown",
      "source": [
        "## Mean Cluster"
      ],
      "metadata": {
        "id": "hnm4NzzV_1tS"
      }
    },
    {
      "cell_type": "code",
      "source": [
        "# Find cluster center as mean of attributes\n",
        "def find_cluster_center(cluster):\n",
        "    return np.mean(cluster, axis=0)"
      ],
      "metadata": {
        "id": "W7tdkPnk-uMS"
      },
      "execution_count": null,
      "outputs": []
    },
    {
      "cell_type": "markdown",
      "source": [
        "## Fitness"
      ],
      "metadata": {
        "id": "zvlsyYv6_1-g"
      }
    },
    {
      "cell_type": "code",
      "source": [
        "# Fitness function based on accuracy\n",
        "def accuracy_fitness(individual, df, true_labels):\n",
        "    clusters = {i: [] for i in range(1, num_clusters + 1)}\n",
        "    for i, cluster_id in enumerate(individual):\n",
        "        clusters[cluster_id].append(i)  # Store index of data point\n",
        "\n",
        "    correct_assignments = 0\n",
        "    for cluster_points in clusters.values():\n",
        "        cluster_labels = true_labels[cluster_points]\n",
        "        cluster_labels_numeric = LabelEncoder().fit_transform(cluster_labels)  # Convert labels to numeric\n",
        "        if len(cluster_labels_numeric) > 0:\n",
        "            most_common_label = np.bincount(cluster_labels_numeric).argmax()\n",
        "            correct_assignments += np.sum(cluster_labels_numeric == most_common_label)\n",
        "\n",
        "    return correct_assignments / len(true_labels)"
      ],
      "metadata": {
        "id": "oP-RhHn2-v2e"
      },
      "execution_count": null,
      "outputs": []
    },
    {
      "cell_type": "markdown",
      "source": [
        "## Selection"
      ],
      "metadata": {
        "id": "b-y94Okv_2XS"
      }
    },
    {
      "cell_type": "code",
      "source": [
        "# Selection using tournament selection\n",
        "def selection(population, fitnesses):\n",
        "    tournament = [population[randint(0, population_size - 1)] for _ in range(tournament_size)]\n",
        "    tournament_fitnesses = [fitnesses[population.index(ind)] for ind in tournament]\n",
        "    return tournament[tournament_fitnesses.index(max(tournament_fitnesses))]"
      ],
      "metadata": {
        "id": "yTf52_p4-yFr"
      },
      "execution_count": null,
      "outputs": []
    },
    {
      "cell_type": "markdown",
      "source": [
        "## Crossover"
      ],
      "metadata": {
        "id": "dvPQscYx_2xB"
      }
    },
    {
      "cell_type": "code",
      "source": [
        "def crossover(parent1, parent2):\n",
        "    child1 = []\n",
        "    child2 = []\n",
        "    for gene1, gene2 in zip(parent1, parent2):\n",
        "        if random() < 0.5:\n",
        "            child1.append(gene1)\n",
        "            child2.append(gene2)\n",
        "        else:\n",
        "            child1.append(gene2)\n",
        "            child2.append(gene1)\n",
        "    return child1, child2"
      ],
      "metadata": {
        "id": "SkTTBTN1-zvV"
      },
      "execution_count": null,
      "outputs": []
    },
    {
      "cell_type": "markdown",
      "source": [
        "## Mutation"
      ],
      "metadata": {
        "id": "khKqR9VS_3Hh"
      }
    },
    {
      "cell_type": "code",
      "source": [
        "def mutate(individual, mutation_rate):\n",
        "    for i in range(len(individual)):\n",
        "        if random() < mutation_rate:\n",
        "            individual[i] = randint(1, num_clusters)"
      ],
      "metadata": {
        "id": "sGb2Pnf7-1w3"
      },
      "execution_count": null,
      "outputs": []
    },
    {
      "cell_type": "markdown",
      "source": [
        "## Genetic algorithm"
      ],
      "metadata": {
        "id": "lG6tctDY_8Wq"
      }
    },
    {
      "cell_type": "code",
      "source": [
        "def genetic_algorithm():\n",
        "    population = initialize_population()\n",
        "    best_individual = None\n",
        "    best_fitness = -float('inf')\n",
        "    best_accuracy = -float('inf')\n",
        "    fitness_over_time = []\n",
        "    accuracy_over_time = []\n",
        "\n",
        "    for generation in range(max_generations):\n",
        "        fitnesses = [accuracy_fitness(ind, df, true_labels) for ind in population]\n",
        "\n",
        "        # Elitism: Keep the best individual unchanged\n",
        "        best_index = np.argmax(fitnesses)\n",
        "        if fitnesses[best_index] > best_fitness:\n",
        "            best_individual = population[best_index]\n",
        "            best_fitness = fitnesses[best_index]\n",
        "            best_accuracy = calculate_accuracy(best_individual, true_labels)\n",
        "\n",
        "        new_population = [best_individual[:]]  # Start with best individual\n",
        "\n",
        "        # Selection, crossover, and mutation\n",
        "        for _ in range(population_size // 2):\n",
        "            parent1 = selection(population, fitnesses)\n",
        "            parent2 = selection(population, fitnesses)\n",
        "            child1, child2 = crossover(parent1, parent2)\n",
        "            mutate(child1, mutation_rate)\n",
        "            mutate(child2, mutation_rate)\n",
        "            new_population.extend([child1, child2])\n",
        "\n",
        "        population = new_population[:population_size]\n",
        "\n",
        "        # Record fitness and accuracy\n",
        "        fitness_over_time.append(best_fitness)\n",
        "        accuracy_over_time.append(best_accuracy)\n",
        "\n",
        "        print(f\"Generation {generation+1}: Best Fitness = {best_fitness:.2f}, Best Accuracy = {best_accuracy:.2f}\")\n",
        "\n",
        "    # Plot fitness and accuracy over generations\n",
        "    plt.figure(figsize=(12, 5))\n",
        "    plt.subplot(1, 2, 1)\n",
        "    plt.plot(fitness_over_time)\n",
        "    plt.xlabel('Generation')\n",
        "    plt.ylabel('Best Fitness')\n",
        "    plt.title('Fitness Over Generations')\n",
        "\n",
        "    plt.subplot(1, 2, 2)\n",
        "    plt.plot(accuracy_over_time)\n",
        "    plt.xlabel('Generation')\n",
        "    plt.ylabel('Best Accuracy')\n",
        "    plt.title('Accuracy Over Generations')\n",
        "\n",
        "    plt.show()\n",
        "\n",
        "    return best_individual, best_fitness, best_accuracy"
      ],
      "metadata": {
        "id": "XFeBZvp6_ABE"
      },
      "execution_count": null,
      "outputs": []
    },
    {
      "cell_type": "markdown",
      "source": [
        "## Accuracy"
      ],
      "metadata": {
        "id": "U7V4yauO_3gf"
      }
    },
    {
      "cell_type": "code",
      "source": [
        "def calculate_accuracy(individual, true_labels):\n",
        "    clusters = {i: [] for i in range(1, num_clusters + 1)}\n",
        "    for i, cluster_id in enumerate(individual):\n",
        "        clusters[cluster_id].append(i)  # Store index of data point\n",
        "\n",
        "    correct_assignments = 0\n",
        "    for cluster_points in clusters.values():\n",
        "        cluster_labels = true_labels[cluster_points]\n",
        "        cluster_labels_numeric = LabelEncoder().fit_transform(cluster_labels)  # Convert labels to numeric\n",
        "        if len(cluster_labels_numeric) > 0:\n",
        "            most_common_label = np.bincount(cluster_labels_numeric).argmax()\n",
        "            correct_assignments += np.sum(cluster_labels_numeric == most_common_label)\n",
        "\n",
        "    return correct_assignments / len(true_labels)"
      ],
      "metadata": {
        "id": "JGVdgND4_CV2"
      },
      "execution_count": null,
      "outputs": []
    },
    {
      "cell_type": "markdown",
      "source": [
        "## Visualize Clusters"
      ],
      "metadata": {
        "id": "Oklp8C_mIL_1"
      }
    },
    {
      "cell_type": "code",
      "source": [
        "def visualize_clusters(individual, df):\n",
        "    plt.figure(figsize=(10, 6))\n",
        "\n",
        "    # Convert cluster assignment to numpy array for easier handling\n",
        "    cluster_assignments = np.array(individual)\n",
        "\n",
        "    # Plot each cluster with different color\n",
        "    for cluster_id in range(1, num_clusters + 1):\n",
        "        cluster_points = df[cluster_assignments == cluster_id]\n",
        "        plt.scatter(cluster_points.iloc[:, 0], cluster_points.iloc[:, 1], label=f'Cluster {cluster_id}')\n",
        "\n",
        "    plt.xlabel('Sepal Length')\n",
        "    plt.ylabel('Sepal Width')\n",
        "    plt.title('Cluster Assignments')\n",
        "    plt.legend()\n",
        "    plt.show()"
      ],
      "metadata": {
        "id": "9XzbUlt2IKdD"
      },
      "execution_count": null,
      "outputs": []
    },
    {
      "cell_type": "markdown",
      "source": [
        "## Execution"
      ],
      "metadata": {
        "id": "MxN7FtbnAckA"
      }
    },
    {
      "cell_type": "code",
      "execution_count": null,
      "metadata": {
        "id": "fjaTMTEHICun",
        "colab": {
          "base_uri": "https://localhost:8080/",
          "height": 1000
        },
        "outputId": "504139cb-885c-4d13-9997-364f3af9b20a"
      },
      "outputs": [
        {
          "output_type": "stream",
          "name": "stdout",
          "text": [
            "Generation 1: Best Fitness = 0.47, Best Accuracy = 0.47\n",
            "Generation 2: Best Fitness = 0.47, Best Accuracy = 0.47\n",
            "Generation 3: Best Fitness = 0.48, Best Accuracy = 0.48\n",
            "Generation 4: Best Fitness = 0.51, Best Accuracy = 0.51\n",
            "Generation 5: Best Fitness = 0.51, Best Accuracy = 0.51\n",
            "Generation 6: Best Fitness = 0.51, Best Accuracy = 0.51\n",
            "Generation 7: Best Fitness = 0.52, Best Accuracy = 0.52\n",
            "Generation 8: Best Fitness = 0.53, Best Accuracy = 0.53\n",
            "Generation 9: Best Fitness = 0.57, Best Accuracy = 0.57\n",
            "Generation 10: Best Fitness = 0.58, Best Accuracy = 0.58\n",
            "Generation 11: Best Fitness = 0.59, Best Accuracy = 0.59\n",
            "Generation 12: Best Fitness = 0.62, Best Accuracy = 0.62\n",
            "Generation 13: Best Fitness = 0.62, Best Accuracy = 0.62\n",
            "Generation 14: Best Fitness = 0.64, Best Accuracy = 0.64\n",
            "Generation 15: Best Fitness = 0.64, Best Accuracy = 0.64\n",
            "Generation 16: Best Fitness = 0.65, Best Accuracy = 0.65\n",
            "Generation 17: Best Fitness = 0.65, Best Accuracy = 0.65\n",
            "Generation 18: Best Fitness = 0.67, Best Accuracy = 0.67\n",
            "Generation 19: Best Fitness = 0.68, Best Accuracy = 0.68\n",
            "Generation 20: Best Fitness = 0.69, Best Accuracy = 0.69\n",
            "Generation 21: Best Fitness = 0.71, Best Accuracy = 0.71\n",
            "Generation 22: Best Fitness = 0.72, Best Accuracy = 0.72\n",
            "Generation 23: Best Fitness = 0.72, Best Accuracy = 0.72\n",
            "Generation 24: Best Fitness = 0.73, Best Accuracy = 0.73\n",
            "Generation 25: Best Fitness = 0.76, Best Accuracy = 0.76\n",
            "Generation 26: Best Fitness = 0.76, Best Accuracy = 0.76\n",
            "Generation 27: Best Fitness = 0.77, Best Accuracy = 0.77\n",
            "Generation 28: Best Fitness = 0.79, Best Accuracy = 0.79\n",
            "Generation 29: Best Fitness = 0.79, Best Accuracy = 0.79\n",
            "Generation 30: Best Fitness = 0.80, Best Accuracy = 0.80\n",
            "Generation 31: Best Fitness = 0.81, Best Accuracy = 0.81\n",
            "Generation 32: Best Fitness = 0.81, Best Accuracy = 0.81\n",
            "Generation 33: Best Fitness = 0.82, Best Accuracy = 0.82\n",
            "Generation 34: Best Fitness = 0.83, Best Accuracy = 0.83\n",
            "Generation 35: Best Fitness = 0.83, Best Accuracy = 0.83\n",
            "Generation 36: Best Fitness = 0.84, Best Accuracy = 0.84\n",
            "Generation 37: Best Fitness = 0.85, Best Accuracy = 0.85\n",
            "Generation 38: Best Fitness = 0.86, Best Accuracy = 0.86\n",
            "Generation 39: Best Fitness = 0.86, Best Accuracy = 0.86\n",
            "Generation 40: Best Fitness = 0.86, Best Accuracy = 0.86\n",
            "Generation 41: Best Fitness = 0.87, Best Accuracy = 0.87\n",
            "Generation 42: Best Fitness = 0.88, Best Accuracy = 0.88\n",
            "Generation 43: Best Fitness = 0.88, Best Accuracy = 0.88\n",
            "Generation 44: Best Fitness = 0.89, Best Accuracy = 0.89\n",
            "Generation 45: Best Fitness = 0.90, Best Accuracy = 0.90\n",
            "Generation 46: Best Fitness = 0.91, Best Accuracy = 0.91\n",
            "Generation 47: Best Fitness = 0.91, Best Accuracy = 0.91\n",
            "Generation 48: Best Fitness = 0.92, Best Accuracy = 0.92\n",
            "Generation 49: Best Fitness = 0.92, Best Accuracy = 0.92\n",
            "Generation 50: Best Fitness = 0.92, Best Accuracy = 0.92\n",
            "Generation 51: Best Fitness = 0.93, Best Accuracy = 0.93\n",
            "Generation 52: Best Fitness = 0.93, Best Accuracy = 0.93\n",
            "Generation 53: Best Fitness = 0.93, Best Accuracy = 0.93\n",
            "Generation 54: Best Fitness = 0.93, Best Accuracy = 0.93\n",
            "Generation 55: Best Fitness = 0.94, Best Accuracy = 0.94\n",
            "Generation 56: Best Fitness = 0.95, Best Accuracy = 0.95\n",
            "Generation 57: Best Fitness = 0.95, Best Accuracy = 0.95\n",
            "Generation 58: Best Fitness = 0.95, Best Accuracy = 0.95\n",
            "Generation 59: Best Fitness = 0.95, Best Accuracy = 0.95\n",
            "Generation 60: Best Fitness = 0.95, Best Accuracy = 0.95\n",
            "Generation 61: Best Fitness = 0.95, Best Accuracy = 0.95\n",
            "Generation 62: Best Fitness = 0.96, Best Accuracy = 0.96\n",
            "Generation 63: Best Fitness = 0.96, Best Accuracy = 0.96\n",
            "Generation 64: Best Fitness = 0.97, Best Accuracy = 0.97\n",
            "Generation 65: Best Fitness = 0.97, Best Accuracy = 0.97\n",
            "Generation 66: Best Fitness = 0.97, Best Accuracy = 0.97\n",
            "Generation 67: Best Fitness = 0.97, Best Accuracy = 0.97\n",
            "Generation 68: Best Fitness = 0.98, Best Accuracy = 0.98\n",
            "Generation 69: Best Fitness = 0.98, Best Accuracy = 0.98\n",
            "Generation 70: Best Fitness = 0.98, Best Accuracy = 0.98\n",
            "Generation 71: Best Fitness = 0.99, Best Accuracy = 0.99\n",
            "Generation 72: Best Fitness = 0.99, Best Accuracy = 0.99\n",
            "Generation 73: Best Fitness = 0.99, Best Accuracy = 0.99\n",
            "Generation 74: Best Fitness = 0.99, Best Accuracy = 0.99\n",
            "Generation 75: Best Fitness = 0.99, Best Accuracy = 0.99\n",
            "Generation 76: Best Fitness = 0.99, Best Accuracy = 0.99\n",
            "Generation 77: Best Fitness = 0.99, Best Accuracy = 0.99\n",
            "Generation 78: Best Fitness = 0.99, Best Accuracy = 0.99\n",
            "Generation 79: Best Fitness = 0.99, Best Accuracy = 0.99\n",
            "Generation 80: Best Fitness = 0.99, Best Accuracy = 0.99\n",
            "Generation 81: Best Fitness = 0.99, Best Accuracy = 0.99\n",
            "Generation 82: Best Fitness = 0.99, Best Accuracy = 0.99\n",
            "Generation 83: Best Fitness = 0.99, Best Accuracy = 0.99\n",
            "Generation 84: Best Fitness = 0.99, Best Accuracy = 0.99\n",
            "Generation 85: Best Fitness = 0.99, Best Accuracy = 0.99\n",
            "Generation 86: Best Fitness = 1.00, Best Accuracy = 1.00\n",
            "Generation 87: Best Fitness = 1.00, Best Accuracy = 1.00\n",
            "Generation 88: Best Fitness = 1.00, Best Accuracy = 1.00\n",
            "Generation 89: Best Fitness = 1.00, Best Accuracy = 1.00\n",
            "Generation 90: Best Fitness = 1.00, Best Accuracy = 1.00\n",
            "Generation 91: Best Fitness = 1.00, Best Accuracy = 1.00\n",
            "Generation 92: Best Fitness = 1.00, Best Accuracy = 1.00\n",
            "Generation 93: Best Fitness = 1.00, Best Accuracy = 1.00\n",
            "Generation 94: Best Fitness = 1.00, Best Accuracy = 1.00\n",
            "Generation 95: Best Fitness = 1.00, Best Accuracy = 1.00\n",
            "Generation 96: Best Fitness = 1.00, Best Accuracy = 1.00\n",
            "Generation 97: Best Fitness = 1.00, Best Accuracy = 1.00\n",
            "Generation 98: Best Fitness = 1.00, Best Accuracy = 1.00\n",
            "Generation 99: Best Fitness = 1.00, Best Accuracy = 1.00\n",
            "Generation 100: Best Fitness = 1.00, Best Accuracy = 1.00\n"
          ]
        },
        {
          "output_type": "display_data",
          "data": {
            "text/plain": [
              "<Figure size 1200x500 with 2 Axes>"
            ],
            "image/png": "[encoded data removed]"
          },
          "metadata": {}
        },
        {
          "output_type": "stream",
          "name": "stdout",
          "text": [
            "Best Individual (Cluster Assignment): [2, 2, 2, 2, 2, 2, 2, 2, 2, 2, 2, 2, 2, 2, 2, 2, 2, 2, 2, 2, 2, 2, 2, 2, 2, 2, 2, 2, 2, 2, 2, 2, 2, 2, 2, 2, 2, 2, 2, 2, 2, 2, 2, 2, 2, 2, 2, 2, 2, 2, 1, 1, 1, 1, 1, 1, 1, 1, 1, 1, 1, 1, 1, 1, 1, 1, 1, 1, 1, 1, 1, 1, 1, 1, 1, 1, 1, 1, 1, 1, 1, 1, 1, 1, 1, 1, 1, 1, 1, 1, 1, 1, 1, 1, 1, 1, 1, 1, 1, 1, 3, 3, 3, 3, 3, 3, 3, 3, 3, 3, 3, 3, 3, 3, 3, 3, 3, 3, 3, 3, 3, 3, 3, 3, 3, 3, 3, 3, 3, 3, 3, 3, 3, 3, 3, 3, 3, 3, 3, 3, 3, 3, 3, 3, 3, 3, 3, 3, 3, 3]\n",
            "Best Fitness: 1.00\n",
            "Best Accuracy: 1.00\n"
          ]
        },
        {
          "output_type": "display_data",
          "data": {
            "text/plain": [
              "<Figure size 1000x600 with 1 Axes>"
            ],
            "image/png": "[encoded data removed]"
          },
          "metadata": {}
        }
      ],
      "source": [
        "# Run the genetic algorithm\n",
        "best_individual, best_fitness, best_accuracy = genetic_algorithm()\n",
        "print(\"Best Individual (Cluster Assignment):\", best_individual)\n",
        "print(f\"Best Fitness: {best_fitness:.2f}\")\n",
        "print(f\"Best Accuracy: {best_accuracy:.2f}\")\n",
        "\n",
        "# Visualize the best cluster assignment\n",
        "visualize_clusters(best_individual, df)"
      ]
    },
    {
      "cell_type": "markdown",
      "source": [
        "## K-mean Clustering"
      ],
      "metadata": {
        "id": "WqpN8WHkH_li"
      }
    },
    {
      "cell_type": "code",
      "source": [
        "from sklearn.cluster import KMeans\n",
        "import matplotlib.pyplot as plt\n",
        "\n",
        "\n",
        "# fetch dataset\n",
        "iris = fetch_ucirepo(id=53)\n",
        "\n",
        "# Load and prepare the train data\n",
        "data = iris.data.features\n",
        "\n",
        "data['target'] = iris.target\n",
        "\n",
        "# Initialize KMeans with 3 clusters\n",
        "kmeans = KMeans(n_clusters=3, random_state=42)\n",
        "\n",
        "# Fit the model\n",
        "kmeans.fit(data.drop('target', axis=1))\n",
        "\n",
        "# Add the cluster labels to the dataset\n",
        "data['cluster'] = kmeans.labels_\n",
        "\n",
        "# Plot the results\n",
        "plt.figure(figsize=(12, 6))\n",
        "plt.scatter(data.iloc[:, 0], data.iloc[:, 1], c=data['cluster'], cmap='viridis')\n",
        "plt.xlabel('Sepal Length')\n",
        "plt.ylabel('Sepal Width')\n",
        "plt.title('K-Means Clustering of Iris Dataset')\n",
        "plt.show()\n"
      ],
      "metadata": {
        "id": "cZyX7_YTXFyw",
        "colab": {
          "base_uri": "https://localhost:8080/",
          "height": 620
        },
        "outputId": "c19910a9-2074-448e-eda0-bb6d37065df4"
      },
      "execution_count": null,
      "outputs": [
        {
          "output_type": "stream",
          "name": "stderr",
          "text": [
            "/usr/local/lib/python3.10/dist-packages/sklearn/cluster/_kmeans.py:870: FutureWarning: The default value of `n_init` will change from 10 to 'auto' in 1.4. Set the value of `n_init` explicitly to suppress the warning\n",
            "  warnings.warn(\n"
          ]
        },
        {
          "output_type": "display_data",
          "data": {
            "text/plain": [
              "<Figure size 1200x600 with 1 Axes>"
            ],
            "image/png": "[encoded data removed]"
          },
          "metadata": {}
        }
      ]
    },
    {
      "cell_type": "code",
      "source": [],
      "metadata": {
        "id": "tAn5BHqyIiWD"
      },
      "execution_count": null,
      "outputs": []
    }
  ]
}